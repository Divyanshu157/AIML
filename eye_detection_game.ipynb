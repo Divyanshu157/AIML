{
 "cells": [
  {
   "cell_type": "code",
   "execution_count": 11,
   "metadata": {},
   "outputs": [],
   "source": [
    "import numpy as np\n",
    "import skimage as ski\n",
    "import matplotlib as plt\n",
    "import pandas as pd \n",
    "import cv2\n",
    "import face_recognition as fr\n",
    "import time "
   ]
  },
  {
   "cell_type": "code",
   "execution_count": 12,
   "metadata": {},
   "outputs": [
    {
     "name": "stdout",
     "output_type": "stream",
     "text": [
      "'name'\n",
      "----------------------\n",
      "----------------------\n",
      "----------------------\n",
      "----------------------\n",
      "----------------------\n",
      "----------------------\n",
      "----------------------\n",
      "----------------------\n",
      "----------------------\n",
      "----------------------\n",
      "----------------------\n",
      "----------------------\n",
      "----------------------\n",
      "----------------------\n",
      "----------------------\n",
      "----------------------\n",
      "----------------------\n",
      "----------------------\n",
      "----------------------\n",
      "----------------------\n",
      "----------------------\n",
      "----------------------\n",
      "----------------------\n",
      "----------------------\n",
      "----------------------\n",
      "----------------------\n",
      "----------------------\n",
      "----------------------\n",
      "----------------------\n",
      "----------------------\n",
      "----------------------\n",
      "----------------------\n",
      "----------------------\n",
      "----------------------\n",
      "----------------------\n",
      "----------------------\n",
      "----------------------\n",
      "----------------------\n",
      "----------------------\n",
      "----------------------\n",
      "----------------------\n",
      "----------------------\n",
      "----------------------\n",
      "----------------------\n",
      "----------------------\n",
      "----------------------\n",
      "----------------------\n",
      "----------------------\n",
      "----------------------\n",
      "----------------------\n",
      "----------------------\n",
      "----------------------\n",
      "----------------------\n",
      "----------------------\n",
      "----------------------\n",
      "----------------------\n",
      "----------------------\n",
      "----------------------\n",
      "----------------------\n",
      "----------------------\n",
      "----------------------\n",
      "----------------------\n",
      "----------------------\n",
      "----------------------\n",
      "----------------------\n",
      "----------------------\n",
      "----------------------\n",
      "you Loose and your score added to csv file\n"
     ]
    }
   ],
   "source": [
    "fd= cv2.CascadeClassifier(cv2.data.haarcascades+\"haarcascade_frontalface_default.xml\")\n",
    "ed =cv2.CascadeClassifier(cv2.data.haarcascades+\"haarcascade_eye_tree_eyeglasses.xml\")\n",
    "\n",
    "\n",
    "try:\n",
    "    face_db=pd.read_csv(\"DataFrameForEye.csv\", index_col=0)\n",
    "    data={\"NAME\":face_db[\"name\"].values.tolist(),\n",
    "          \"SCORE\":face_db[\"score\"].values.tolist()}\n",
    "except Exception as e:\n",
    "    print(e)      #yeh kya krega sir se puchna hai\n",
    "    data={\"NAME\":[] , \"SCORE\":[]}\n",
    "\n",
    "\n",
    "\n",
    "\n",
    "# data={\"NAME\":name,\"SCORE\":score}\n",
    "name = data[\"NAME\"]\n",
    "score = data[\"SCORE\"]\n",
    "\n",
    "\n",
    "vid= cv2.VideoCapture(0)\n",
    "\n",
    "captured =True\n",
    "flag,img=vid.read()\n",
    "\n",
    "while flag:\n",
    "    \n",
    "    \n",
    "    flag,img= vid.read()\n",
    "    # gray color provide good precision to editing\n",
    "    gray= cv2.cvtColor(img,cv2.COLOR_BGR2GRAY)\n",
    "    gray= cv2.bilateralFilter(gray,5,1,1)\n",
    "    faces=fd.detectMultiScale(gray,1.1,5)\n",
    "    if(len(faces)>0):\n",
    "        for x,y,w,h in faces:\n",
    "            img=cv2.rectangle(img,pt1=(x,y),pt2=(x+w,y+h),color=(0,255,0),thickness=3)\n",
    "            face= gray[y:y+h,x:x+w]\n",
    "            face_color=img[y:y+h,x:x+w]\n",
    "            eyes=ed.detectMultiScale(gray,1.1,5)\n",
    "            if(len(eyes)>=2):\n",
    "                if(captured):\n",
    "                    \n",
    "                    cv2.putText(img,\"press s to begon \",(100,100),cv2.FONT_HERSHEY_PLAIN,3,color=(90,0,255),thickness=2)\n",
    "                else:\n",
    "                    \n",
    "                    print(\"----------------------\")\n",
    "            else:\n",
    "                if(captured):\n",
    "                    cv2.putText(img,\"no eyes detected\",(100,100),cv2.FONT_HERSHEY_PLAIN,3,color=(0,255,0),thickness=3)\n",
    "                else:\n",
    "                    print(\"you Loose and your score added to csv file\")\n",
    "                    \n",
    "                    \n",
    "                    curr2=time.time()\n",
    "                    score.append(curr2-curr)\n",
    "                    \n",
    "             \n",
    "                    captured=True\n",
    "    else:\n",
    "        \n",
    "        # name.append(input(\"enter your name\"))\n",
    "        data = { \"name\":name,\"score\":score}\n",
    "        DataFrameForEye= pd.DataFrame(data)\n",
    "        # DataFrameForEye.to_csv(\"DataFrameForEye.csv\")\n",
    "        cv2.putText(img,\"no face detected\" , (100,100),cv2.FONT_HERSHEY_PLAIN,3,color=(0,255,0),thickness=3)\n",
    "        \n",
    "\n",
    "    \n",
    "    \n",
    "    cv2.imshow(\"web-image\",img)\n",
    "    key=cv2.waitKey(1)\n",
    "    if key==ord(\"q\"):\n",
    "        break\n",
    "    elif (key==ord(\"s\") and captured):\n",
    "        \n",
    "        captured=False\n",
    "        curr=time.time()\n",
    "        \n",
    "\n",
    "    \n",
    "cv2.destroyAllWindows()\n",
    "vid.release()\n",
    "name.append(input(\"enter your name\"))\n"
   ]
  },
  {
   "cell_type": "code",
   "execution_count": 13,
   "metadata": {},
   "outputs": [],
   "source": [
    "vid.release()"
   ]
  },
  {
   "cell_type": "code",
   "execution_count": 14,
   "metadata": {},
   "outputs": [
    {
     "data": {
      "text/plain": [
       "[8.812536716461182]"
      ]
     },
     "execution_count": 14,
     "metadata": {},
     "output_type": "execute_result"
    }
   ],
   "source": [
    "score\n"
   ]
  },
  {
   "cell_type": "code",
   "execution_count": 5,
   "metadata": {},
   "outputs": [],
   "source": [
    "# #two list are crated\n",
    "# name=['a','b','c']\n",
    "# enc=[[1,2,3],[4,5,6],[7,8,9]]\n",
    "# #list are converted to dictionary\n",
    "# data={\"Name\":name,\"enc\":enc}\n",
    "# #dictionary are converted to dataframes\n",
    "# data_frame1=pd.DataFrame(data)\n",
    "# #dataframes to csv files\n",
    "# data_frame1.to_csv(\"data_frame1.csv\")"
   ]
  },
  {
   "cell_type": "code",
   "execution_count": 19,
   "metadata": {},
   "outputs": [],
   "source": [
    "# name.append(input(\"enter your name\"))"
   ]
  },
  {
   "cell_type": "code",
   "execution_count": 15,
   "metadata": {},
   "outputs": [],
   "source": [
    "data={\"NAME\":name,\"SCORE\":score}"
   ]
  },
  {
   "cell_type": "code",
   "execution_count": 16,
   "metadata": {},
   "outputs": [
    {
     "data": {
      "text/plain": [
       "{'NAME': ['aman'], 'SCORE': [8.812536716461182]}"
      ]
     },
     "execution_count": 16,
     "metadata": {},
     "output_type": "execute_result"
    }
   ],
   "source": [
    "data"
   ]
  },
  {
   "cell_type": "code",
   "execution_count": 17,
   "metadata": {},
   "outputs": [
    {
     "data": {
      "text/html": [
       "<div>\n",
       "<style scoped>\n",
       "    .dataframe tbody tr th:only-of-type {\n",
       "        vertical-align: middle;\n",
       "    }\n",
       "\n",
       "    .dataframe tbody tr th {\n",
       "        vertical-align: top;\n",
       "    }\n",
       "\n",
       "    .dataframe thead th {\n",
       "        text-align: right;\n",
       "    }\n",
       "</style>\n",
       "<table border=\"1\" class=\"dataframe\">\n",
       "  <thead>\n",
       "    <tr style=\"text-align: right;\">\n",
       "      <th></th>\n",
       "      <th>NAME</th>\n",
       "      <th>SCORE</th>\n",
       "    </tr>\n",
       "  </thead>\n",
       "  <tbody>\n",
       "    <tr>\n",
       "      <th>0</th>\n",
       "      <td>aman</td>\n",
       "      <td>8.812537</td>\n",
       "    </tr>\n",
       "  </tbody>\n",
       "</table>\n",
       "</div>"
      ],
      "text/plain": [
       "   NAME     SCORE\n",
       "0  aman  8.812537"
      ]
     },
     "execution_count": 17,
     "metadata": {},
     "output_type": "execute_result"
    }
   ],
   "source": [
    "# face_db = pd.read_csv(\"dataframe2.csv\",index_col=0)\n",
    "data_frame2=pd.DataFrame(data)\n",
    "\n",
    "data_frame2\n"
   ]
  },
  {
   "cell_type": "code",
   "execution_count": 20,
   "metadata": {},
   "outputs": [
    {
     "ename": "TypeError",
     "evalue": "unhashable type: 'dict'",
     "output_type": "error",
     "traceback": [
      "\u001b[1;31m---------------------------------------------------------------------------\u001b[0m",
      "\u001b[1;31mTypeError\u001b[0m                                 Traceback (most recent call last)",
      "Cell \u001b[1;32mIn[20], line 1\u001b[0m\n\u001b[1;32m----> 1\u001b[0m dataframe3 \u001b[39m=\u001b[39m pd\u001b[39m.\u001b[39mDataFrame({data})\n\u001b[0;32m      2\u001b[0m dataframe3\u001b[39m.\u001b[39mappend(dataframe2)\n\u001b[0;32m      3\u001b[0m dataframe3\u001b[39m.\u001b[39mto_csv(\u001b[39m\"\u001b[39m\u001b[39mDataFrameForEye.csv\u001b[39m\u001b[39m\"\u001b[39m)\n",
      "\u001b[1;31mTypeError\u001b[0m: unhashable type: 'dict'"
     ]
    }
   ],
   "source": [
    "\n",
    "dataframe3 = pd.DataFrame({data})\n",
    "dataframe3.append(dataframe2)\n",
    "dataframe3.to_csv(\"DataFrameForEye.csv\")\n"
   ]
  },
  {
   "cell_type": "code",
   "execution_count": null,
   "metadata": {},
   "outputs": [],
   "source": []
  }
 ],
 "metadata": {
  "kernelspec": {
   "display_name": "Python 3",
   "language": "python",
   "name": "python3"
  },
  "language_info": {
   "codemirror_mode": {
    "name": "ipython",
    "version": 3
   },
   "file_extension": ".py",
   "mimetype": "text/x-python",
   "name": "python",
   "nbconvert_exporter": "python",
   "pygments_lexer": "ipython3",
   "version": "3.10.7"
  },
  "orig_nbformat": 4
 },
 "nbformat": 4,
 "nbformat_minor": 2
}
