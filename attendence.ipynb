{
 "cells": [
  {
   "cell_type": "code",
   "execution_count": 1,
   "metadata": {},
   "outputs": [],
   "source": [
    "import cv2\n",
    "import skimage as ski\n",
    "import matplotlib.pyplot as plt\n",
    "import numpy as np"
   ]
  },
  {
   "cell_type": "code",
   "execution_count": 21,
   "metadata": {},
   "outputs": [],
   "source": [
    "#access the algorithm already present\n",
    "fd=cv2.CascadeClassifier(cv2.data.haarcascades + \"haarcascade_frontalface_default.xml\")\n",
    "sd=cv2.CascadeClassifier(cv2.data.haarcascades + \"haarcascade_smile.xml\")\n",
    "vid=cv2.VideoCapture(0)\n",
    "counter=0\n",
    "captured=True\n",
    "while captured:\n",
    "    \n",
    "    flag,img=vid.read()\n",
    "    # img_gray=cv2.cvtColor(img,cv2.COLOR_BGR2RGB)\n",
    "    if flag:\n",
    "        faces=fd.detectMultiScale(img,1.1,5)\n",
    "        for x,y,w,h in faces:\n",
    "            face=img[y:y+h,x:x+w]\n",
    "            smile=sd.detectMultiScale(face,1.1,200)\n",
    "            for xs,ys,ws,hs in smile:\n",
    "                cv2.rectangle(img,pt1=(x+xs,y+ys),pt2=(x+xs+ws,y+ys+hs),color=(255,255,255),thickness=3)\n",
    "            cv2.rectangle(img,pt1=(x,y),pt2=(x+w,x+h),color=(255,0,0),thickness=3)\n",
    "            # it will check if face is present in front of cam for 20 frames\n",
    "            if len(faces)==1:\n",
    "               counter+=1\n",
    "               print(counter)\n",
    "               \n",
    "               if counter==20:\n",
    "                captured=False\n",
    "            else:\n",
    "                counter=0\n",
    "            \n",
    "\n",
    "        cv2.imshow(\"webcam_image\",face)\n",
    "        key=cv2.waitKey(1)\n",
    "        if key==ord(\"q\"):\n",
    "            break\n",
    "    else:\n",
    "        break\n",
    "cv2.destroyAllWindows()\n",
    "vid.release()\n",
    "\n"
   ]
  },
  {
   "cell_type": "code",
   "execution_count": 17,
   "metadata": {},
   "outputs": [
    {
     "data": {
      "text/plain": [
       "array([[248, 177, 134, 134]])"
      ]
     },
     "execution_count": 17,
     "metadata": {},
     "output_type": "execute_result"
    }
   ],
   "source": [
    "faces"
   ]
  },
  {
   "cell_type": "code",
   "execution_count": 18,
   "metadata": {},
   "outputs": [],
   "source": [
    "# plt.imshow(face)"
   ]
  },
  {
   "cell_type": "code",
   "execution_count": 2,
   "metadata": {},
   "outputs": [],
   "source": [
    "import cv2\n",
    "import face_recognition as fr\n"
   ]
  },
  {
   "cell_type": "code",
   "execution_count": null,
   "metadata": {},
   "outputs": [],
   "source": [
    "\n",
    "    \n"
   ]
  }
 ],
 "metadata": {
  "kernelspec": {
   "display_name": "Python 3",
   "language": "python",
   "name": "python3"
  },
  "language_info": {
   "codemirror_mode": {
    "name": "ipython",
    "version": 3
   },
   "file_extension": ".py",
   "mimetype": "text/x-python",
   "name": "python",
   "nbconvert_exporter": "python",
   "pygments_lexer": "ipython3",
   "version": "3.10.7"
  },
  "orig_nbformat": 4
 },
 "nbformat": 4,
 "nbformat_minor": 2
}
