{
 "cells": [
  {
   "cell_type": "code",
   "execution_count": 1,
   "metadata": {},
   "outputs": [],
   "source": [
    "import numpy as np\n",
    "import skimage as ski\n",
    "import matplotlib as plt\n",
    "import pandas as pd \n",
    "import cv2\n",
    "import face_recognition as fr\n"
   ]
  },
  {
   "cell_type": "code",
   "execution_count": 2,
   "metadata": {},
   "outputs": [
    {
     "name": "stdout",
     "output_type": "stream",
     "text": [
      "----------------------\n",
      "----------------------\n",
      "----------------------\n",
      "----------------------\n",
      "----------------------\n",
      "----------------------\n",
      "----------------------\n",
      "----------------------\n",
      "----------------------\n",
      "----------------------\n",
      "----------------------\n",
      "----------------------\n",
      "----------------------\n",
      "----------------------\n",
      "----------------------\n",
      "----------------------\n",
      "----------------------\n",
      "----------------------\n",
      "----------------------\n",
      "----------------------\n",
      "----------------------\n",
      "----------------------\n",
      "----------------------\n",
      "----------------------\n",
      "----------------------\n",
      "----------------------\n",
      "----------------------\n",
      "----------------------\n",
      "----------------------\n",
      "----------------------\n",
      "----------------------\n",
      "----------------------\n",
      "----------------------\n",
      "----------------------\n",
      "----------------------\n",
      "----------------------\n",
      "----------------------\n",
      "----------------------\n",
      "----------------------\n",
      "----------------------\n",
      "----------------------\n",
      "----------------------\n",
      "----------------------\n",
      "----------------------\n",
      "----------------------\n",
      "----------------------\n",
      "----------------------\n",
      "----------------------\n",
      "you Loose and your score added to csv file\n"
     ]
    }
   ],
   "source": [
    "fd= cv2.CascadeClassifier(cv2.data.haarcascades+\"haarcascade_frontalface_default.xml\")\n",
    "ed =cv2.CascadeClassifier(cv2.data.haarcascades+\"haarcascade_eye_tree_eyeglasses.xml\")\n",
    "\n",
    "\n",
    "\n",
    "\n",
    "vid= cv2.VideoCapture(0)\n",
    "\n",
    "captured =True\n",
    "flag,img=vid.read()\n",
    "\n",
    "while flag:\n",
    "    \n",
    "    \n",
    "    flag,img= vid.read()\n",
    "    # gray color provide good precision to editing\n",
    "    gray= cv2.cvtColor(img,cv2.COLOR_BGR2GRAY)\n",
    "    gray= cv2.bilateralFilter(gray,5,1,1)\n",
    "    faces=fd.detectMultiScale(gray,1.1,5)\n",
    "    if(len(faces)>0):\n",
    "        for x,y,w,h in faces:\n",
    "            img=cv2.rectangle(img,pt1=(x,y),pt2=(x+w,y+h),color=(0,255,0),thickness=3)\n",
    "            face= gray[y:y+h,x:x+w]\n",
    "            face_color=img[y:y+h,x:x+w]\n",
    "            eyes=ed.detectMultiScale(gray,1.1,5)\n",
    "            if(len(eyes)>=2):\n",
    "                if(captured):\n",
    "                    \n",
    "                    cv2.putText(img,\"press s to begon \",(100,100),cv2.FONT_HERSHEY_PLAIN,3,color=(90,0,255),thickness=2)\n",
    "                else:\n",
    "                   \n",
    "                    print(\"----------------------\")\n",
    "            else:\n",
    "                if(captured):\n",
    "                    cv2.putText(img,\"no eyes detected\",(100,100),cv2.FONT_HERSHEY_PLAIN,3,color=(0,255,0),thickness=3)\n",
    "                else:\n",
    "                    print(\"you Loose and your score added to csv file\")\n",
    "                    \n",
    "                    captured=True\n",
    "    else:\n",
    "        cv2.putText(img,\"no face detected\" , (100,100),cv2.FONT_HERSHEY_PLAIN,3,color=(0,255,0),thickness=3)\n",
    "    \n",
    "    \n",
    "    cv2.imshow(\"web-image\",img)\n",
    "    key=cv2.waitKey(1)\n",
    "    if key==ord(\"q\"):\n",
    "        break\n",
    "    elif (key==ord(\"s\") and captured):\n",
    "        \n",
    "        captured=False\n",
    "       \n",
    "    \n",
    "cv2.destroyAllWindows()\n",
    "vid.release()"
   ]
  },
  {
   "cell_type": "code",
   "execution_count": 9,
   "metadata": {},
   "outputs": [
    {
     "data": {
      "text/plain": [
       "array([[224, 302,  61,  61]])"
      ]
     },
     "execution_count": 9,
     "metadata": {},
     "output_type": "execute_result"
    }
   ],
   "source": [
    "# vid.release()\n",
    "eyes\n"
   ]
  },
  {
   "cell_type": "code",
   "execution_count": 10,
   "metadata": {},
   "outputs": [],
   "source": [
    "vid.release()"
   ]
  },
  {
   "cell_type": "code",
   "execution_count": null,
   "metadata": {},
   "outputs": [],
   "source": []
  }
 ],
 "metadata": {
  "kernelspec": {
   "display_name": "Python 3",
   "language": "python",
   "name": "python3"
  },
  "language_info": {
   "codemirror_mode": {
    "name": "ipython",
    "version": 3
   },
   "file_extension": ".py",
   "mimetype": "text/x-python",
   "name": "python",
   "nbconvert_exporter": "python",
   "pygments_lexer": "ipython3",
   "version": "3.10.7"
  },
  "orig_nbformat": 4
 },
 "nbformat": 4,
 "nbformat_minor": 2
}
