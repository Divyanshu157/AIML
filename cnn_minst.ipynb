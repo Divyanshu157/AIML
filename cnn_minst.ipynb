{
 "cells": [
  {
   "cell_type": "code",
   "execution_count": 3,
   "metadata": {},
   "outputs": [],
   "source": [
    "import keras\n",
    "\n",
    "from keras.datasets import mnist\n",
    "from keras.models import Sequential\n",
    "from keras.layers import Dense , Dropout ,Flatten\n",
    "\n",
    "\n",
    "import numpy as np\n",
    "\n"
   ]
  },
  {
   "cell_type": "code",
   "execution_count": 7,
   "metadata": {},
   "outputs": [],
   "source": [
    "from keras.layers import MaxPool2D , Conv2D"
   ]
  },
  {
   "cell_type": "code",
   "execution_count": 11,
   "metadata": {},
   "outputs": [
    {
     "data": {
      "text/plain": [
       "(10000, 28, 28)"
      ]
     },
     "execution_count": 11,
     "metadata": {},
     "output_type": "execute_result"
    }
   ],
   "source": [
    "(X_train,y_train) , (X_test,y_test) = mnist.load_data()\n",
    "X_train.shape\n",
    "X_test.shape"
   ]
  },
  {
   "cell_type": "code",
   "execution_count": 13,
   "metadata": {},
   "outputs": [],
   "source": [
    "num_classes =10"
   ]
  },
  {
   "cell_type": "code",
   "execution_count": 14,
   "metadata": {},
   "outputs": [
    {
     "name": "stdout",
     "output_type": "stream",
     "text": [
      "5\n",
      "5\n"
     ]
    }
   ],
   "source": [
    "\n",
    "\n",
    "\n",
    "X_train=X_train.reshape(60000, 28, 28,1)\n",
    "X_test=X_test.reshape(10000, 28, 28,1)\n"
   ]
  },
  {
   "cell_type": "code",
   "execution_count": 15,
   "metadata": {},
   "outputs": [
    {
     "name": "stdout",
     "output_type": "stream",
     "text": [
      "5\n",
      "[0. 0. 0. 0. 0. 1. 0. 0. 0. 0.]\n"
     ]
    }
   ],
   "source": [
    "\n",
    "\n",
    "print(y_train[0])\n",
    "y_train = keras.utils.to_categorical(y_train,num_classes)\n",
    "y_test = keras.utils.to_categorical(y_test,num_classes)\n",
    "\n",
    "print(y_train[0])"
   ]
  },
  {
   "cell_type": "markdown",
   "metadata": {},
   "source": [
    "model = Sequential(): You create a sequential model, which is a linear stack of layers. This means that you'll add layers to the model one after the other.\n",
    "\n",
    "model.add(Conv2D(filters=32, kernel_size=(3, 3), activation='relu', input_shape=(28, 28, 1)): Here, you add the first convolutional layer to the model. This layer has 32 filters (also called kernels), each of size 3x3. The 'relu' activation function is used. The input_shape parameter indicates that the input images are 28x28 pixels with a single color channel (grayscale).\n",
    "\n",
    "model.add(Conv2D(filters=64, kernel_size=(3, 3), activation='relu')): This adds a second convolutional layer with 64 filters and a 3x3 kernel size. Again, the 'relu' activation function is used.\n",
    "\n",
    "model.add(MaxPool2D(pool_size=(2, 2))): After each convolutional layer, you add a max-pooling layer. Max-pooling reduces the spatial dimensions of the feature maps, helping the model focus on the most important information. Here, you're using a 2x2 max-pooling window.\n",
    "\n",
    "model.add(Dropout(0.25)): Dropout is a regularization technique used to prevent overfitting. It randomly sets a fraction (in this case, 25%) of the input units to zero during training, which helps the model generalize better.\n",
    "\n",
    "model.add(Flatten()): This layer flattens the output from the previous layers into a one-dimensional vector. It prepares the data for the fully connected (dense) layers that follow.\n",
    "\n",
    "model.add(Dense(128, activation='relu')): You add a fully connected layer with 128 neurons and a 'relu' activation function. This layer learns complex patterns in the data.\n",
    "\n",
    "model.add(Dense(39, activation='relu')): There is a dense layer with 39 neurons and 'relu' activation. It's important to note that 39 neurons is an unusual choice, especially for a classification task. Typically, the number of neurons in the last dense layer should match the number of classes, which you previously set as num_classes = 10.\n",
    "\n",
    "model.add(Dense(num_classes, activation='softmax')): Finally, you add the output layer with num_classes (which is 10 for classifying digits) neurons and a 'softmax' activation function. Softmax converts the network's raw output into class probabilities.\n",
    "\n",
    "model.summary(): This line prints a summary of the model architecture, including the number of parameters in each layer and the total number of trainable parameters in the model."
   ]
  },
  {
   "cell_type": "code",
   "execution_count": 19,
   "metadata": {},
   "outputs": [
    {
     "name": "stdout",
     "output_type": "stream",
     "text": [
      "Model: \"sequential_3\"\n",
      "_________________________________________________________________\n",
      " Layer (type)                Output Shape              Param #   \n",
      "=================================================================\n",
      " conv2d_5 (Conv2D)           (None, 26, 26, 32)        320       \n",
      "                                                                 \n",
      " conv2d_6 (Conv2D)           (None, 24, 24, 64)        18496     \n",
      "                                                                 \n",
      " max_pooling2d_2 (MaxPoolin  (None, 12, 12, 64)        0         \n",
      " g2D)                                                            \n",
      "                                                                 \n",
      " dropout_2 (Dropout)         (None, 12, 12, 64)        0         \n",
      "                                                                 \n",
      " flatten_1 (Flatten)         (None, 9216)              0         \n",
      "                                                                 \n",
      " dense_3 (Dense)             (None, 128)               1179776   \n",
      "                                                                 \n",
      " dense_4 (Dense)             (None, 39)                5031      \n",
      "                                                                 \n",
      " dense_5 (Dense)             (None, 10)                400       \n",
      "                                                                 \n",
      "=================================================================\n",
      "Total params: 1204023 (4.59 MB)\n",
      "Trainable params: 1204023 (4.59 MB)\n",
      "Non-trainable params: 0 (0.00 Byte)\n",
      "_________________________________________________________________\n"
     ]
    }
   ],
   "source": [
    "model = Sequential()\n",
    "\n",
    "model.add(Conv2D(filters=32,kernel_size=(3,3),activation='relu',input_shape =  (28,28,1)))\n",
    "\n",
    "model.add(Conv2D(filters=64,kernel_size=(3,3),activation='relu'))\n",
    "model.add(MaxPool2D(pool_size=(2,2)))\n",
    "model.add(Dropout(0.25))\n",
    "model.add(Flatten())\n",
    "model.add(Dense(128,activation='relu'))\n",
    "model.add(Dense(39,activation='relu'))\n",
    "model.add(Dense(num_classes,activation='softmax'))\n",
    "\n",
    "model.summary()\n"
   ]
  },
  {
   "cell_type": "code",
   "execution_count": 21,
   "metadata": {},
   "outputs": [
    {
     "name": "stdout",
     "output_type": "stream",
     "text": [
      "Epoch 1/10\n",
      "1500/1500 [==============================] - 93s 61ms/step - loss: 7.9853 - accuracy: 0.2444 - val_loss: 1.5949 - val_accuracy: 0.5388\n",
      "Epoch 2/10\n",
      "1500/1500 [==============================] - 107s 71ms/step - loss: 2.2381 - accuracy: 0.4780 - val_loss: 0.9766 - val_accuracy: 0.6980\n",
      "Epoch 3/10\n",
      "1500/1500 [==============================] - 102s 68ms/step - loss: 1.5494 - accuracy: 0.5949 - val_loss: 0.7373 - val_accuracy: 0.7698\n",
      "Epoch 4/10\n",
      "1500/1500 [==============================] - 93s 62ms/step - loss: 1.2097 - accuracy: 0.6699 - val_loss: 0.6058 - val_accuracy: 0.8170\n",
      "Epoch 5/10\n",
      "1500/1500 [==============================] - 89s 59ms/step - loss: 1.0144 - accuracy: 0.7189 - val_loss: 0.5269 - val_accuracy: 0.8412\n",
      "Epoch 6/10\n",
      "1500/1500 [==============================] - 91s 60ms/step - loss: 0.8821 - accuracy: 0.7505 - val_loss: 0.4683 - val_accuracy: 0.8654\n",
      "Epoch 7/10\n",
      "1500/1500 [==============================] - 91s 61ms/step - loss: 0.7890 - accuracy: 0.7781 - val_loss: 0.4256 - val_accuracy: 0.8792\n",
      "Epoch 8/10\n",
      "1500/1500 [==============================] - 95s 63ms/step - loss: 0.7081 - accuracy: 0.8014 - val_loss: 0.3913 - val_accuracy: 0.8896\n",
      "Epoch 9/10\n",
      "1500/1500 [==============================] - 94s 62ms/step - loss: 0.6441 - accuracy: 0.8201 - val_loss: 0.3650 - val_accuracy: 0.8976\n",
      "Epoch 10/10\n",
      "1500/1500 [==============================] - 93s 62ms/step - loss: 0.5984 - accuracy: 0.8325 - val_loss: 0.3434 - val_accuracy: 0.9026\n",
      "313/313 [==============================] - 3s 9ms/step - loss: 0.3434 - accuracy: 0.9026\n"
     ]
    }
   ],
   "source": [
    "model.compile(loss=keras.losses.categorical_crossentropy,optimizer=keras.optimizers.Adadelta(),metrics=['accuracy'])\n",
    "\n",
    "history = model.fit(X_train,y_train,batch_size=40,epochs=10,validation_data=(X_test,y_test),verbose = 1)\n",
    "\n",
    "\n",
    "score= model.evaluate(X_test,y_test)"
   ]
  },
  {
   "cell_type": "code",
   "execution_count": 1,
   "metadata": {},
   "outputs": [
    {
     "ename": "NameError",
     "evalue": "name 'score' is not defined",
     "output_type": "error",
     "traceback": [
      "\u001b[1;31m---------------------------------------------------------------------------\u001b[0m",
      "\u001b[1;31mNameError\u001b[0m                                 Traceback (most recent call last)",
      "Cell \u001b[1;32mIn[1], line 1\u001b[0m\n\u001b[1;32m----> 1\u001b[0m score\n",
      "\u001b[1;31mNameError\u001b[0m: name 'score' is not defined"
     ]
    }
   ],
   "source": []
  },
  {
   "cell_type": "markdown",
   "metadata": {},
   "source": [
    "Accuracy Graph:\n",
    "\n",
    "What it shows: This graph has two lines - one for training accuracy and one for validation accuracy. It tells you how well your CNN is at correctly classifying images.\n",
    "What to look for: You want both lines to go up and stay close to each other. If the training accuracy is much higher than the validation accuracy, it might indicate overfitting (the model memorizes the training data but doesn't generalize well to new data).\n",
    "\n",
    "\n",
    "\n",
    "\n",
    "Loss (Error) Graph:\n",
    "\n",
    "What it shows: Similar to the accuracy graph, this graph also has two lines - one for training loss and one for validation loss. It measures how well your CNN's predictions match the actual labels.\n",
    "What to look for: You want both lines to go down and stay close to each other. If the training loss keeps decreasing while the validation loss starts increasing, it's a sign of overfitting.\n",
    "In simple terms, these graphs help you see how your CNN is doing during training:\n",
    "\n",
    "Accuracy graphs show how often it's getting the right answers.\n",
    "Loss graphs show how far off its predictions are.\n",
    "You want both accuracy to be high and loss to be low, and you want these good results to apply to both the training data and data the model hasn't seen before (validation data). If the lines on these graphs behave as expected, it's a sign that your model is learning well. If they don't, it might need some adjustments or more training.\n",
    "\n",
    "\n",
    "\n",
    "\n",
    "\n"
   ]
  },
  {
   "cell_type": "code",
   "execution_count": 22,
   "metadata": {},
   "outputs": [
    {
     "data": {
      "image/png": "[encoded data removed]",
      "text/plain": [
       "<Figure size 1200x400 with 1 Axes>"
      ]
     },
     "metadata": {},
     "output_type": "display_data"
    },
    {
     "data": {
      "image/png": "[encoded data removed]",
      "text/plain": [
       "<Figure size 1200x400 with 1 Axes>"
      ]
     },
     "metadata": {},
     "output_type": "display_data"
    }
   ],
   "source": [
    "import matplotlib.pyplot as plt\n",
    "plt.figure(figsize=(12,4))\n",
    "\n",
    "\n",
    "plt.subplot(1,2,1)\n",
    "plt.plot(history.history['accuracy'],label='Train Accuracy')\n",
    "plt.plot(history.history['val_accuracy'],label='val Accuracy')\n",
    "plt.legend()\n",
    "plt.title('Accuracy')\n",
    "\n",
    "plt.figure(figsize=(12,4))\n",
    "plt.subplot(1,2,2)\n",
    "plt.plot(history.history['loss'],label='Loss Accuracy')\n",
    "plt.plot(history.history['val_loss'],label='val Loss')\n",
    "plt.legend()\n",
    "plt.title('Lose')\n",
    "\n",
    "\n",
    "plt.show()"
   ]
  },
  {
   "cell_type": "code",
   "execution_count": null,
   "metadata": {},
   "outputs": [],
   "source": []
  }
 ],
 "metadata": {
  "kernelspec": {
   "display_name": "Python 3",
   "language": "python",
   "name": "python3"
  },
  "language_info": {
   "codemirror_mode": {
    "name": "ipython",
    "version": 3
   },
   "file_extension": ".py",
   "mimetype": "text/x-python",
   "name": "python",
   "nbconvert_exporter": "python",
   "pygments_lexer": "ipython3",
   "version": "3.10.7"
  },
  "orig_nbformat": 4
 },
 "nbformat": 4,
 "nbformat_minor": 2
}
